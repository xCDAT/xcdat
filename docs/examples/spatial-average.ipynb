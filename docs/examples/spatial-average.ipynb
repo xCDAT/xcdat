{
 "cells": [
  {
   "cell_type": "markdown",
   "metadata": {},
   "source": [
    "# Spatial Averaging\n",
    "\n",
    "Authors: [Tom Vo](https://github.com/tomvothecoder/) & [Stephen Po-Chedley](https://github.com/pochedls/)\n",
    "\n",
    "Updated: 03/14/25 [xcdat v0.8.0]\n",
    "\n",
    "Related APIs: [xarray.Dataset.spatial.average()](../generated/xarray.Dataset.spatial.average.rst) & [xarray.Dataset.spatial.get_weights()](../generated/xcdat.spatial.SpatialAccessor.rst#xcdat.spatial.SpatialAccessor.get_weights)\n"
   ]
  },
  {
   "cell_type": "markdown",
   "metadata": {},
   "source": [
    "## Overview\n",
    "\n",
    "A common data reduction in geophysical sciences is to produce spatial averages. Spatial averaging functionality in xcdat allows users to quickly produce area-weighted spatial averages for selected regions (or full dataset domains).\n",
    "\n",
    "In the example below, we demonstrate the opening of a (remote) dataset and spatial averaging over the global, tropical, and Niño 3.4 domains.\n",
    "\n",
    "The data used in this example can be found in the [xcdat-data repository](https://github.com/xCDAT/xcdat-data).\n"
   ]
  },
  {
   "cell_type": "markdown",
   "metadata": {},
   "source": [
    "### Notebook Kernel Setup\n",
    "\n",
    "Users can [install their own instance of xcdat](../getting-started-guide/installation.rst) and follow these examples using their own environment (e.g., with VS Code, Jupyter, Spyder, iPython) or [enable xcdat with existing JupyterHub instances](../getting-started-guide/getting-started-hpc-jupyter.rst).\n",
    "\n",
    "First, create the conda environment:\n",
    "\n",
    "```bash\n",
    "conda create -n xcdat_notebook -c conda-forge xcdat xesmf matplotlib ipython ipykernel cartopy nc-time-axis gsw-xarray jupyter pooch\n",
    "```\n",
    "\n",
    "Then install the kernel from the `xcdat_notebook` environment using `ipykernel` and name the kernel with the display name (e.g., `xcdat_notebook`):\n",
    "\n",
    "```bash\n",
    "python -m ipykernel install --user --name xcdat_notebook --display-name xcdat_notebook\n",
    "```\n",
    "\n",
    "Then to select the kernel `xcdat_notebook` in Jupyter to use this kernel.\n"
   ]
  },
  {
   "cell_type": "markdown",
   "metadata": {},
   "source": [
    "## 1. Open the `Dataset`\n"
   ]
  },
  {
   "cell_type": "code",
   "execution_count": null,
   "metadata": {
    "ExecuteTime": {
     "end_time": "2018-11-28T20:51:36.072316Z",
     "start_time": "2018-11-28T20:51:36.016594Z"
    }
   },
   "outputs": [],
   "source": [
    "# parameters\n",
    "import xcdat as xc\n",
    "import xarray as xr\n",
    "import numpy as np\n",
    "import matplotlib.pyplot as plt\n",
    "import cartopy.crs as ccrs\n",
    "\n",
    "# open dataset\n",
    "ds = xc.tutorial.open_dataset(\"tas_amon_access\", use_cftime=True)\n",
    "\n",
    "# Unit adjust (-273.15, K to C)\n",
    "ds[\"tas\"] = ds.tas - 273.15\n",
    "\n",
    "ds"
   ]
  },
  {
   "cell_type": "markdown",
   "metadata": {},
   "source": [
    "## 2. Global average\n"
   ]
  },
  {
   "cell_type": "code",
   "execution_count": null,
   "metadata": {},
   "outputs": [],
   "source": [
    "# if you do not specify lat_bounds or lon_bounds, the averager will calculate the domain mean\n",
    "ds_global_avg = ds.spatial.average(\"tas\")"
   ]
  },
  {
   "cell_type": "code",
   "execution_count": null,
   "metadata": {},
   "outputs": [],
   "source": [
    "ds_global_avg.tas"
   ]
  },
  {
   "cell_type": "code",
   "execution_count": null,
   "metadata": {},
   "outputs": [],
   "source": [
    "# Plot the first 120 time steps\n",
    "ds_global_avg.tas.isel(time=slice(0, 120)).plot()\n",
    "plt.title(\"Global Average Surface Temperature\")\n",
    "plt.xlabel(\"Year\")\n",
    "plt.ylabel(\"Near Surface Air Temperature [$^{\\\\circ}$C]\")"
   ]
  },
  {
   "cell_type": "markdown",
   "metadata": {},
   "source": [
    "## 3. Tropical average\n"
   ]
  },
  {
   "cell_type": "code",
   "execution_count": null,
   "metadata": {},
   "outputs": [],
   "source": [
    "# compute the tropical average\n",
    "ds_trop_avg = ds.spatial.average(\"tas\", lat_bounds=(-25, 25))"
   ]
  },
  {
   "cell_type": "code",
   "execution_count": null,
   "metadata": {},
   "outputs": [],
   "source": [
    "# Plot the first 120 time steps\n",
    "ds_trop_avg.tas.isel(time=slice(0, 120)).plot()\n",
    "plt.title(\"Tropical Average Surface Temperature\")\n",
    "plt.xlabel(\"Year\")\n",
    "plt.ylabel(\"Near Surface Air Temperature [$^{\\\\circ}$C]\")"
   ]
  },
  {
   "cell_type": "markdown",
   "metadata": {},
   "source": [
    "## 4. Nino 3.4 Region\n",
    "\n",
    "> Niño 3.4 (5N-5S, 170W-120W): The Niño 3.4 anomalies may be thought of as representing the average equatorial SSTs across the Pacific from about the dateline to the South American coast. The Niño 3.4 index typically uses a 5-month running mean, and El Niño or La Niña events are defined when the Niño 3.4 SSTs exceed +/- 0.4C for a period of six months or more.\"\n",
    ">\n",
    "> &mdash; <cite>https://climatedataguide.ucar.edu/climate-data/nino-sst-indices-nino-12-3-34-4-oni-and-tni</cite>\n"
   ]
  },
  {
   "cell_type": "code",
   "execution_count": null,
   "metadata": {},
   "outputs": [],
   "source": [
    "# compute the nino 3.4 average\n",
    "ds_nino_avg = ds.spatial.average(\"tas\", lat_bounds=(-5, 5), lon_bounds=(190, 240))"
   ]
  },
  {
   "cell_type": "code",
   "execution_count": null,
   "metadata": {},
   "outputs": [],
   "source": [
    "ds_nino_avg.tas.plot()\n",
    "plt.title(\"Ni$\\\\mathrm{\\\\tilde{n}}$o 3.4 Region Surface Temperature\")\n",
    "plt.xlabel(\"Year\")\n",
    "plt.ylabel(\"Near Surface Air Temperature [$^{\\\\circ}$C]\")"
   ]
  },
  {
   "cell_type": "markdown",
   "metadata": {},
   "source": [
    "## 5. Retain / Inspect Spatial Weights\n",
    "\n",
    "xCDAT can retain the weights used for spatial averaging using `keep_weights=True`. Here we retain and inspect these weights for the Niño 3.4 region. Note that along the edges of the Niño 3.4 box the weights are slightly less (since some grid cells are not fully in the averaging box and thus receive partial weight).\n"
   ]
  },
  {
   "cell_type": "code",
   "execution_count": null,
   "metadata": {},
   "outputs": [],
   "source": [
    "# recompute the nino 3.4 average, but retain weights\n",
    "ds_nino_avg = ds.spatial.average(\n",
    "    \"tas\", lat_bounds=(-5, 5), lon_bounds=(190, 240), keep_weights=True\n",
    ")"
   ]
  },
  {
   "cell_type": "code",
   "execution_count": null,
   "metadata": {},
   "outputs": [],
   "source": [
    "# plot the weights\n",
    "ax = plt.axes(projection=ccrs.Robinson(central_longitude=180.0))\n",
    "plt.pcolor(\n",
    "    ds_nino_avg.lon,\n",
    "    ds_nino_avg.lat,\n",
    "    ds_nino_avg.lat_lon_wts.T,\n",
    "    transform=ccrs.PlateCarree(),\n",
    "    cmap=plt.cm.Purples,\n",
    ")\n",
    "ax.coastlines()\n",
    "plt.colorbar(orientation=\"horizontal\")\n",
    "plt.title(\"Nino 3.4 Weights\")"
   ]
  },
  {
   "cell_type": "markdown",
   "metadata": {},
   "source": [
    "## 6. Create and apply your own weights\n",
    "\n",
    "Instead of having xcdat generate geospatial weights, you may want to create your own weights. You can pass your own weights into xcdat. Here we show an example of weighting the surface temperature data in the tropics by precipitation.\n",
    "\n",
    "<div class=\"alert alert-block alert-warning\"><b>Warning:</b> The lat_bounds and lon_bounds args are used when calculating axis weights, but is ignored if weights are supplied.</div>\n"
   ]
  },
  {
   "cell_type": "code",
   "execution_count": null,
   "metadata": {},
   "outputs": [],
   "source": [
    "# let's grab and open the precipitation dataset that corresponds to our temperature data\n",
    "ds_pr = xc.tutorial.open_dataset(\"pr_amon_access\", use_cftime=True)"
   ]
  },
  {
   "cell_type": "code",
   "execution_count": null,
   "metadata": {},
   "outputs": [],
   "source": [
    "# we will use the precip data as weights (zeroing out extratropical data)\n",
    "weights = ds_pr.pr.where(np.abs(ds_pr.pr.lat) < 30, 0.0)\n",
    "# and apply a cos(lat) weighting\n",
    "weights = weights * np.cos(np.radians(ds_pr.lat))\n",
    "# compute precipitation weighted temperature\n",
    "ds_pw = ds.spatial.average(\"tas\", weights=weights)"
   ]
  },
  {
   "cell_type": "code",
   "execution_count": null,
   "metadata": {},
   "outputs": [],
   "source": [
    "# plot the first timestep of the weights matrix\n",
    "plt.figure(figsize=(10, 3))\n",
    "ax = plt.subplot(1, 2, 1, projection=ccrs.Robinson(central_longitude=180.0))\n",
    "plt.pcolor(\n",
    "    ds_pr.lon, ds_pr.lat, weights[0], transform=ccrs.PlateCarree(), cmap=plt.cm.Purples\n",
    ")\n",
    "ax.coastlines()\n",
    "plt.colorbar(orientation=\"horizontal\", ticks=[0, 0.0001, 0.0002, 0.0003, 0.0004])\n",
    "plt.subplot(1, 2, 2)\n",
    "plt.title(\"Weights (time=\")\n",
    "\n",
    "# plot\n",
    "ds_pw.tas.plot()\n",
    "plt.title(\"Precipitation-weighted Tropical Surface Temperature\")\n",
    "plt.xlabel(\"Year\")\n",
    "plt.ylabel(\"Near Surface Air Temperature [$^{\\\\circ}$C]\")\n",
    "plt.tight_layout()"
   ]
  },
  {
   "cell_type": "markdown",
   "metadata": {},
   "source": [
    "## 7. Compute a zonal average\n",
    "\n",
    "You do not need to average over both latitude and longitude. Here we show an example in which we take the zonal average (average over all longitude values).\n"
   ]
  },
  {
   "cell_type": "code",
   "execution_count": null,
   "metadata": {},
   "outputs": [],
   "source": [
    "# take zonal average\n",
    "ds_zonal = ds.spatial.average(\"tas\", axis=[\"X\"])"
   ]
  },
  {
   "cell_type": "code",
   "execution_count": null,
   "metadata": {},
   "outputs": [],
   "source": [
    "# plot first time step\n",
    "plt.figure(figsize=(12, 5))\n",
    "plt.subplot(1, 2, 1)\n",
    "ds_zonal.tas[0].plot()\n",
    "plt.ylabel(\"Near Surface Air Temperature [$^{\\\\circ}$C]\")\n",
    "plt.xlabel(\"Latitude [$^{\\\\circ}$N]\")\n",
    "plt.title(\"Zonal Mean Surface Air Temperature (1/1850)\")\n",
    "\n",
    "# plot hovmoller\n",
    "plt.subplot(1, 2, 2)\n",
    "ds_zonal.tas.plot()\n",
    "plt.xlabel(\"Latitude [$^{\\\\circ}$N]\")\n",
    "plt.ylabel(\"Year\")\n",
    "plt.title(\"Zonal Mean Surface Air Temperature\")"
   ]
  }
 ],
 "metadata": {
  "kernelspec": {
   "display_name": "xcdat_notebook",
   "language": "python",
   "name": "python3"
  },
  "language_info": {
   "codemirror_mode": {
    "name": "ipython",
    "version": 3
   },
   "file_extension": ".py",
   "mimetype": "text/x-python",
   "name": "python",
   "nbconvert_exporter": "python",
   "pygments_lexer": "ipython3",
   "version": "3.13.2"
  }
 },
 "nbformat": 4,
 "nbformat_minor": 4
}
