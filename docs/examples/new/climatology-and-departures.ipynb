{
 "cells": [
  {
   "attachments": {},
   "cell_type": "markdown",
   "metadata": {},
   "source": [
    "# Calculating Climatology and Departures from Time Series Data\n",
    "\n",
    "Author: [Tom Vo](https://github.com/tomvothecoder/) & [Jiwoo Lee](https://github.com/lee1043/)\n",
    "\n",
    "Updated: 11/07/24 [xcdat v0.7.3]\n",
    "\n",
    "Related APIs:\n",
    "\n",
    "- [xarray.Dataset.temporal.climatology()](../generated/xarray.Dataset.temporal.climatology.rst)\n",
    "- [xarray.Dataset.temporal.departures()](../generated/xarray.Dataset.temporal.departures.rst)\n"
   ]
  },
  {
   "cell_type": "markdown",
   "metadata": {},
   "source": [
    "## Overview\n",
    "\n",
    "Suppose we're working with an `\"ersstv5\"` dataset (NOAA’s Extended Reconstructed Sea Surface Temperature monthly averages) with time from 1970-01-01 to 2015-01-01.\n",
    "\n",
    "1. We want to calculate the annual and seasonal cycle climatologies and departures using this file.\n",
    "2. We want to resample it to hourly frequency and calculate the daily cycle climatologies and departures.\n",
    "\n",
    "The data used in this example can be found in the [xarray-data repository](https://github.com/pydata/xarray-data).\n"
   ]
  },
  {
   "cell_type": "markdown",
   "metadata": {},
   "source": [
    "### Notebook Kernel Setup\n",
    "\n",
    "Users can [install their own instance of xcdat](../getting-started-guide/installation.rst) and follow these examples using their own environment (e.g., with VS Code, Jupyter, Spyder, iPython) or [enable xcdat with existing JupyterHub instances](../getting-started-guide/getting-started-hpc-jupyter.rst).\n",
    "\n",
    "First, create the conda environment:\n",
    "\n",
    "```bash\n",
    "conda create -n xcdat_notebook -c conda-forge xcdat xesmf matplotlib ipython ipykernel cartopy nc-time-axis gsw-xarray jupyter pooch\n",
    "```\n",
    "\n",
    "Then install the kernel from the `xcdat_notebook` environment using `ipykernel` and name the kernel with the display name (e.g., `xcdat_notebook`):\n",
    "\n",
    "```bash\n",
    "python -m ipykernel install --user --name xcdat_notebook --display-name xcdat_notebook\n",
    "```\n",
    "\n",
    "Then to select the kernel `xcdat_notebook` in Jupyter to use this kernel.\n"
   ]
  },
  {
   "cell_type": "code",
   "execution_count": null,
   "metadata": {
    "ExecuteTime": {
     "end_time": "2018-11-28T20:51:35.958210Z",
     "start_time": "2018-11-28T20:51:35.936966Z"
    }
   },
   "outputs": [],
   "source": [
    "%matplotlib inline\n",
    "\n",
    "import matplotlib.pyplot as plt\n",
    "import pandas as pd\n",
    "import xcdat as xc"
   ]
  },
  {
   "cell_type": "markdown",
   "metadata": {},
   "source": [
    "## 1. Open Sample Datasets\n"
   ]
  },
  {
   "cell_type": "code",
   "execution_count": null,
   "metadata": {},
   "outputs": [],
   "source": [
    "ds = xc.tutorial.open_dataset(\"ersstv5\", use_cftime=True)"
   ]
  },
  {
   "cell_type": "markdown",
   "metadata": {},
   "source": [
    "### File 1: Monthly Frequency\n"
   ]
  },
  {
   "cell_type": "code",
   "execution_count": null,
   "metadata": {
    "ExecuteTime": {
     "end_time": "2018-11-28T20:51:36.072316Z",
     "start_time": "2018-11-28T20:51:36.016594Z"
    }
   },
   "outputs": [],
   "source": [
    "ds_monthly = ds.copy()\n",
    "\n",
    "ds_monthly"
   ]
  },
  {
   "cell_type": "markdown",
   "metadata": {},
   "source": [
    "### 2: Hourly Frequency\n",
    "\n",
    "We're going to resample the dataset to hourly frequency.\n"
   ]
  },
  {
   "cell_type": "code",
   "execution_count": null,
   "metadata": {},
   "outputs": [],
   "source": [
    "ds_hourly = ds.sel(time=slice(\"2010-01-01\", \"2015-01-01\"))\n",
    "ds_hourly = ds_hourly.resample(time=\"h\").mean()\n",
    "ds_hourly = ds_hourly.bounds.add_bounds(axis=\"T\")\n",
    "\n",
    "ds_hourly"
   ]
  },
  {
   "attachments": {},
   "cell_type": "markdown",
   "metadata": {},
   "source": [
    "## 2. Calculate Climatology\n",
    "\n",
    "Related API: [xarray.Dataset.temporal.climatology()](../generated/xarray.Dataset.temporal.climatology.rst)\n",
    "\n",
    "In this example, we will be calculating the weighted climatology of the `sst` variable for its seasonal, annual, and daily cycles.\n",
    "\n",
    "Helpful knowledge:\n",
    "\n",
    "- Masked (missing) data is automatically handled.\n",
    "  - The weight of masked (missing) data is excluded when averages are calculated. This is the same as giving them a weight of 0.\n",
    "- If desired, use the `reference_period` argument to calculate a climatology based on a\n",
    "  climatological reference period (a subset of the entire time series). If no value is\n",
    "  provided, the climatological reference period will be the full period covered by the\n",
    "  dataset.\n"
   ]
  },
  {
   "cell_type": "markdown",
   "metadata": {},
   "source": [
    "### Seasonal Climatology\n",
    "\n",
    "**Groups time coordinates by season**\n",
    "\n",
    "The `season_config` dictionary keyword argument can be passed to `.climatology()` for more granular configuration. We will be sticking with the default settings.\n"
   ]
  },
  {
   "cell_type": "code",
   "execution_count": null,
   "metadata": {},
   "outputs": [],
   "source": [
    "season_climo = ds_monthly.temporal.climatology(\n",
    "    \"sst\",\n",
    "    freq=\"season\",\n",
    "    weighted=True,\n",
    "    season_config={\"dec_mode\": \"DJF\", \"drop_incomplete_djf\": True},\n",
    ")"
   ]
  },
  {
   "cell_type": "code",
   "execution_count": null,
   "metadata": {},
   "outputs": [],
   "source": [
    "notnull = pd.notnull(season_climo[\"sst\"][0])\n",
    "sst_season = season_climo.sst\n",
    "\n",
    "fig, axes = plt.subplots(nrows=4, ncols=1, figsize=(14, 12))\n",
    "for i, season in enumerate((\"DJF\", \"MAM\", \"JJA\", \"SON\")):\n",
    "    sst_season.isel(time=i).where(notnull).plot.pcolormesh(\n",
    "        ax=axes[i],\n",
    "        vmin=-30,\n",
    "        vmax=30,\n",
    "        cmap=\"Spectral_r\",\n",
    "        add_colorbar=True,\n",
    "        extend=\"both\",\n",
    "    )\n",
    "    axes[i].set_ylabel(season)\n",
    "\n",
    "for ax in axes.flat:\n",
    "    ax.axes.get_xaxis().set_ticklabels([])\n",
    "    ax.axes.get_yaxis().set_ticklabels([])\n",
    "    ax.axes.axis(\"tight\")\n",
    "    ax.set_xlabel(\"\")\n",
    "\n",
    "plt.tight_layout()\n",
    "fig.suptitle(\"Seasonal Surface Air Temperature\", fontsize=16, y=1.02)"
   ]
  },
  {
   "cell_type": "markdown",
   "metadata": {},
   "source": [
    "Notice that the time coordinates are `cftime` objects, with each season (\"DJF\", \"MAM\", \"JJA\", and \"SON\") represented by its middle month.\n",
    "\n",
    "`cftime` objects are used because the time coordinates are outside the Timestamp-valid range (approximately between years 1678 and 2262).\n",
    "\n",
    "- More info here: https://xarray.pydata.org/en/v2022.03.0/user-guide/weather-climate.html#non-standard-calendars-and-dates-outside-the-timestamp-valid-range\n"
   ]
  },
  {
   "cell_type": "code",
   "execution_count": null,
   "metadata": {},
   "outputs": [],
   "source": [
    "season_climo.time"
   ]
  },
  {
   "cell_type": "markdown",
   "metadata": {},
   "source": [
    "### Custom Seasonal Climatology\n",
    "\n",
    "**Groups time coordinates by season**\n",
    "\n",
    "To calculate custom seasonal cycle climatology, we must first define our custom seasons using the `season_config` dictionary and the `\"custom_seasons\"` key.\n",
    "\n",
    "`\"custom_seasons\"` must be a list of sublists containing month strings, with each sublist\n",
    "representing a custom season.\n",
    "\n",
    "- Month strings must be in the three letter format (e.g., 'Jan')\n",
    "- Each month must be included once in a custom season\n",
    "- Order of the months in each custom season does not matter\n",
    "- Custom seasons can vary in length\n"
   ]
  },
  {
   "cell_type": "code",
   "execution_count": null,
   "metadata": {},
   "outputs": [],
   "source": [
    "custom_seasons = [\n",
    "    [\"Jan\", \"Feb\", \"Mar\"],  # \"JanFebMar\"\n",
    "    [\"Apr\", \"May\", \"Jun\"],  # \"AprMayJun\"\n",
    "    [\"Jul\", \"Aug\", \"Sep\"],  # \"JunJulAug\"\n",
    "    [\"Oct\", \"Nov\", \"Dec\"],  # \"OctNovDec\"\n",
    "]\n",
    "\n",
    "c_season_climo = ds_monthly.temporal.climatology(\n",
    "    \"sst\",\n",
    "    freq=\"season\",\n",
    "    weighted=True,\n",
    "    season_config={\"custom_seasons\": custom_seasons},\n",
    ")"
   ]
  },
  {
   "cell_type": "code",
   "execution_count": null,
   "metadata": {},
   "outputs": [],
   "source": [
    "c_season_climo.sst"
   ]
  },
  {
   "cell_type": "code",
   "execution_count": null,
   "metadata": {},
   "outputs": [],
   "source": [
    "notnull = pd.notnull(c_season_climo[\"sst\"][0])\n",
    "sst_c_season = c_season_climo.sst\n",
    "\n",
    "fig, axes = plt.subplots(nrows=4, ncols=1, figsize=(14, 12))\n",
    "for i, season in enumerate(sst_c_season.attrs[\"custom_seasons\"]):\n",
    "    sst_c_season.isel(time=i).where(notnull).plot.pcolormesh(\n",
    "        ax=axes[i],\n",
    "        vmin=-30,\n",
    "        vmax=30,\n",
    "        cmap=\"Spectral_r\",\n",
    "        add_colorbar=True,\n",
    "        extend=\"both\",\n",
    "    )\n",
    "    axes[i].set_ylabel(season)\n",
    "\n",
    "for ax in axes.flat:\n",
    "    ax.axes.get_xaxis().set_ticklabels([])\n",
    "    ax.axes.get_yaxis().set_ticklabels([])\n",
    "    ax.axes.axis(\"tight\")\n",
    "    ax.set_xlabel(\"\")\n",
    "\n",
    "plt.tight_layout()\n",
    "fig.suptitle(\"Seasonal Surface Air Temperature\", fontsize=16, y=1.02)"
   ]
  },
  {
   "cell_type": "markdown",
   "metadata": {},
   "source": [
    "### Annual Climatology\n",
    "\n",
    "**Groups time coordinates by month**\n"
   ]
  },
  {
   "cell_type": "code",
   "execution_count": null,
   "metadata": {},
   "outputs": [],
   "source": [
    "annual_climo = ds_monthly.temporal.climatology(\"sst\", freq=\"month\", weighted=True)"
   ]
  },
  {
   "cell_type": "code",
   "execution_count": null,
   "metadata": {},
   "outputs": [],
   "source": [
    "annual_climo.sst"
   ]
  },
  {
   "cell_type": "markdown",
   "metadata": {},
   "source": [
    "### Daily Climatology\n",
    "\n",
    "**Groups time coordinates by month and day.**\n",
    "\n",
    "Leap days (if present) are dropped if the CF calendar type is `\"gregorian\"`, `\"proleptic_gregorian\"`, or `\"standard\"`.\n"
   ]
  },
  {
   "cell_type": "code",
   "execution_count": null,
   "metadata": {},
   "outputs": [],
   "source": [
    "daily_climo = ds_hourly.temporal.climatology(\"sst\", freq=\"day\", weighted=True)"
   ]
  },
  {
   "cell_type": "code",
   "execution_count": null,
   "metadata": {},
   "outputs": [],
   "source": [
    "daily_climo.sst"
   ]
  },
  {
   "attachments": {},
   "cell_type": "markdown",
   "metadata": {},
   "source": [
    "## 3. Calculate Departures (Anomalies)\n",
    "\n",
    "Related API: [xarray.Dataset.temporal.departures()](../generated/xarray.Dataset.temporal.departures.rst)\n",
    "\n",
    "In this example, we will be calculating the weighted departures of the `sst` variable for its seasonal, annual, and daily cycles.\n",
    "\n",
    "Helpful knowledge:\n",
    "\n",
    "- What are anomalies?\n",
    "  - In climatology, “anomalies” refer to the difference between the value during a given time\n",
    "    interval (e.g., the January average surface air temperature) and the long-term average value for\n",
    "    that time interval (e.g., the average surface temperature over the last 30 Januaries).\n",
    "- How is the climatology calculated?\n",
    "  - In the departures API, the reference climatology is calculated internally so there is no need to pass one to this method.\n",
    "  - You can still calculate the reference climatology using the climatology API.\n",
    "  - If desired, use the `reference_period` argument to calculate anomalies relative to a\n",
    "    climatological reference period (a subset of the entire time series). If no value is\n",
    "    provided, the climatological reference period will be the full period covered by the\n",
    "    dataset.\n",
    "- Masked (missing) data is automatically handled.\n",
    "  - The weight of masked (missing) data is excluded when averages are calculated. This is the same as giving them a weight of 0.\n"
   ]
  },
  {
   "cell_type": "markdown",
   "metadata": {},
   "source": [
    "### Seasonal Anomalies\n",
    "\n",
    "The `season_config` dictionary keyword argument can be passed to `.departures()` for more granular configuration. We will be sticking with the default settings.\n"
   ]
  },
  {
   "cell_type": "code",
   "execution_count": null,
   "metadata": {},
   "outputs": [],
   "source": [
    "season_departures = ds_monthly.temporal.departures(\n",
    "    \"sst\",\n",
    "    freq=\"season\",\n",
    "    weighted=True,\n",
    "    season_config={\"dec_mode\": \"DJF\", \"drop_incomplete_djf\": True},\n",
    ")"
   ]
  },
  {
   "cell_type": "code",
   "execution_count": null,
   "metadata": {},
   "outputs": [],
   "source": [
    "season_departures.sst"
   ]
  },
  {
   "cell_type": "markdown",
   "metadata": {},
   "source": [
    "### Custom Seasonal Anomalies\n",
    "\n",
    "To calculate custom seasonal cycle anomalies, we must first define our custom seasons using the `season_config` dictionary and the `\"custom_seasons\"` key.\n",
    "\n",
    "`\"custom_seasons\"` must be a list of sublists containing month strings, with each sublist\n",
    "representing a custom season.\n",
    "\n",
    "- Month strings must be in the three letter format (e.g., 'Jan')\n",
    "- Each month must be included once in a custom season\n",
    "- Order of the months in each custom season does not matter\n",
    "- Custom seasons can vary in length\n"
   ]
  },
  {
   "cell_type": "code",
   "execution_count": null,
   "metadata": {},
   "outputs": [],
   "source": [
    "custom_seasons = [\n",
    "    [\"Jan\", \"Feb\", \"Mar\"],  # \"JanFebMar\"\n",
    "    [\"Apr\", \"May\", \"Jun\"],  # \"AprMayJun\"\n",
    "    [\"Jul\", \"Aug\", \"Sep\"],  # \"JulAugSep\"\n",
    "    [\"Oct\", \"Nov\", \"Dec\"],  # \"OctNovDec\"\n",
    "]\n",
    "c_season_departs = ds_monthly.temporal.departures(\n",
    "    \"sst\",\n",
    "    freq=\"season\",\n",
    "    weighted=True,\n",
    "    season_config={\"custom_seasons\": custom_seasons},\n",
    ")"
   ]
  },
  {
   "cell_type": "code",
   "execution_count": null,
   "metadata": {},
   "outputs": [],
   "source": [
    "c_season_departs.sst"
   ]
  },
  {
   "cell_type": "markdown",
   "metadata": {},
   "source": [
    "### Annual Anomalies\n"
   ]
  },
  {
   "cell_type": "code",
   "execution_count": null,
   "metadata": {},
   "outputs": [],
   "source": [
    "annual_departures = ds_monthly.temporal.departures(\"sst\", freq=\"month\", weighted=True)"
   ]
  },
  {
   "cell_type": "code",
   "execution_count": null,
   "metadata": {},
   "outputs": [],
   "source": [
    "annual_departures.sst"
   ]
  },
  {
   "cell_type": "markdown",
   "metadata": {},
   "source": [
    "### Daily Anomalies\n",
    "\n",
    "Leap days (if present) are dropped if the CF calendar type is `\"gregorian\"`, `\"proleptic_gregorian\"`, or `\"standard\"`.\n"
   ]
  },
  {
   "cell_type": "code",
   "execution_count": null,
   "metadata": {},
   "outputs": [],
   "source": [
    "daily_departures = ds_hourly.temporal.departures(\"sst\", freq=\"day\", weighted=True)"
   ]
  },
  {
   "cell_type": "code",
   "execution_count": null,
   "metadata": {},
   "outputs": [],
   "source": [
    "daily_departures.sst"
   ]
  }
 ],
 "metadata": {
  "anaconda-cloud": {},
  "kernelspec": {
   "display_name": "xcdat_notebook_0.7.3",
   "language": "python",
   "name": "python3"
  },
  "language_info": {
   "codemirror_mode": {
    "name": "ipython",
    "version": 3
   },
   "file_extension": ".py",
   "mimetype": "text/x-python",
   "name": "python",
   "nbconvert_exporter": "python",
   "pygments_lexer": "ipython3",
   "version": "3.12.7"
  },
  "toc": {
   "base_numbering": 1,
   "nav_menu": {},
   "number_sections": true,
   "sideBar": true,
   "skip_h1_title": false,
   "title_cell": "Table of Contents",
   "title_sidebar": "Contents",
   "toc_cell": true,
   "toc_position": {},
   "toc_section_display": true,
   "toc_window_display": true
  }
 },
 "nbformat": 4,
 "nbformat_minor": 4
}
